{
  "nbformat": 4,
  "nbformat_minor": 0,
  "metadata": {
    "colab": {
      "provenance": []
    },
    "kernelspec": {
      "name": "python3",
      "display_name": "Python 3"
    },
    "language_info": {
      "name": "python"
    }
  },
  "cells": [
    {
      "cell_type": "code",
      "execution_count": 1,
      "metadata": {
        "colab": {
          "base_uri": "https://localhost:8080/"
        },
        "id": "nxr0iM3pAgh-",
        "outputId": "590dd80c-f6d9-444d-dbf0-91430d0538d3"
      },
      "outputs": [
        {
          "output_type": "stream",
          "name": "stdout",
          "text": [
            "[1 2 3 4]\n"
          ]
        }
      ],
      "source": [
        "#Create an array from a list or tuple\n",
        "#np.array   \n",
        "import numpy as np \n",
        "arr=np.array([1,2,3,4])\n",
        "print(arr)"
      ]
    },
    {
      "cell_type": "code",
      "source": [
        "#np.zeros\n",
        "#Create an array of zero of specified shape\n",
        "import numpy as np\n",
        "arr= np.zeros((4,4))\n",
        "print(arr)"
      ],
      "metadata": {
        "colab": {
          "base_uri": "https://localhost:8080/"
        },
        "id": "MJ64zuwjCgLU",
        "outputId": "6f587cda-2c36-44c4-a235-1db2d53c88fc"
      },
      "execution_count": 4,
      "outputs": [
        {
          "output_type": "stream",
          "name": "stdout",
          "text": [
            "[[0. 0. 0. 0.]\n",
            " [0. 0. 0. 0.]\n",
            " [0. 0. 0. 0.]\n",
            " [0. 0. 0. 0.]]\n"
          ]
        }
      ]
    },
    {
      "cell_type": "code",
      "source": [
        "#np.ones\n",
        "#create an array of ones with specified shape\n",
        "import numpy as np\n",
        "arr=np.ones((3,3))\n",
        "print(arr)"
      ],
      "metadata": {
        "colab": {
          "base_uri": "https://localhost:8080/"
        },
        "id": "KDDc-55_DEYF",
        "outputId": "de171857-bd1c-47b4-abce-2dda3f256d4e"
      },
      "execution_count": 5,
      "outputs": [
        {
          "output_type": "stream",
          "name": "stdout",
          "text": [
            "[[1. 1. 1.]\n",
            " [1. 1. 1.]\n",
            " [1. 1. 1.]]\n"
          ]
        }
      ]
    },
    {
      "cell_type": "code",
      "source": [
        "#np.arange \n",
        "#Generate the range of numbers \n",
        "import numpy as np \n",
        "arr=np.arange(1,30 , 3)\n",
        "print(arr)"
      ],
      "metadata": {
        "colab": {
          "base_uri": "https://localhost:8080/"
        },
        "id": "eTCb_H1bDrtH",
        "outputId": "f4c485d5-1128-45ab-a458-4fc48119d7ca"
      },
      "execution_count": 7,
      "outputs": [
        {
          "output_type": "stream",
          "name": "stdout",
          "text": [
            "[ 1  4  7 10 13 16 19 22 25 28]\n"
          ]
        }
      ]
    },
    {
      "cell_type": "code",
      "source": [
        "#np.linspace\n",
        "#Generate an array of evenly spaced numbers over a speceified interval\n",
        "import numpy as np \n",
        "arr=np.linspace(0,10,5)\n",
        "print(arr)"
      ],
      "metadata": {
        "colab": {
          "base_uri": "https://localhost:8080/"
        },
        "id": "U0sL7_HmD5u-",
        "outputId": "9b72bc67-8d79-47f2-8122-9f9a7529d218"
      },
      "execution_count": 8,
      "outputs": [
        {
          "output_type": "stream",
          "name": "stdout",
          "text": [
            "[ 0.   2.5  5.   7.5 10. ]\n"
          ]
        }
      ]
    },
    {
      "cell_type": "code",
      "source": [
        "#np.reshape \n",
        "#Reshape an array \n",
        "import numpy as np\n",
        "arr=np.arange(9)\n",
        "arr=arr.reshape(3,3)\n",
        "print(arr)"
      ],
      "metadata": {
        "colab": {
          "base_uri": "https://localhost:8080/"
        },
        "id": "XSkS7MC3EbLG",
        "outputId": "59fc029d-a532-4f5c-805f-e383eb56be70"
      },
      "execution_count": 9,
      "outputs": [
        {
          "output_type": "stream",
          "name": "stdout",
          "text": [
            "[[0 1 2]\n",
            " [3 4 5]\n",
            " [6 7 8]]\n"
          ]
        }
      ]
    },
    {
      "cell_type": "code",
      "source": [
        "#np.transpose\n",
        "#Transpose an array \n",
        "import numpy as np\n",
        "arr= np.array([[1,2,3] , [9,8,7]])\n",
        "arr=np.transpose(arr)\n",
        "print(arr)"
      ],
      "metadata": {
        "colab": {
          "base_uri": "https://localhost:8080/"
        },
        "id": "ysYi4a_2FnOE",
        "outputId": "d8ca6880-35d0-4183-f00d-83249d013154"
      },
      "execution_count": 11,
      "outputs": [
        {
          "output_type": "stream",
          "name": "stdout",
          "text": [
            "[[1 9]\n",
            " [2 8]\n",
            " [3 7]]\n"
          ]
        }
      ]
    },
    {
      "cell_type": "code",
      "source": [
        "#np.dot\n",
        "#compute dot product of array\n",
        "import numpy as np\n",
        "arr1=np.array([1,2,3])\n",
        "arr2=np.array([4,5,6])\n",
        "arr=np.dot(arr1,arr2)\n",
        "print(arr)"
      ],
      "metadata": {
        "colab": {
          "base_uri": "https://localhost:8080/"
        },
        "id": "440KveZYGBqh",
        "outputId": "c2f274f6-970f-4925-824f-dcf89ba7c277"
      },
      "execution_count": 14,
      "outputs": [
        {
          "output_type": "stream",
          "name": "stdout",
          "text": [
            "32\n"
          ]
        }
      ]
    },
    {
      "cell_type": "code",
      "source": [
        "#50 logarithmic array \n",
        "import numpy as np\n",
        "arr=np.logspace(1,5,50)\n",
        "print(arr)"
      ],
      "metadata": {
        "colab": {
          "base_uri": "https://localhost:8080/"
        },
        "id": "6H7AZjZ7HRID",
        "outputId": "608c8f79-a150-4cea-bbe8-6d55c7b9bb7d"
      },
      "execution_count": 15,
      "outputs": [
        {
          "output_type": "stream",
          "name": "stdout",
          "text": [
            "[1.00000000e+01 1.20679264e+01 1.45634848e+01 1.75751062e+01\n",
            " 2.12095089e+01 2.55954792e+01 3.08884360e+01 3.72759372e+01\n",
            " 4.49843267e+01 5.42867544e+01 6.55128557e+01 7.90604321e+01\n",
            " 9.54095476e+01 1.15139540e+02 1.38949549e+02 1.67683294e+02\n",
            " 2.02358965e+02 2.44205309e+02 2.94705170e+02 3.55648031e+02\n",
            " 4.29193426e+02 5.17947468e+02 6.25055193e+02 7.54312006e+02\n",
            " 9.10298178e+02 1.09854114e+03 1.32571137e+03 1.59985872e+03\n",
            " 1.93069773e+03 2.32995181e+03 2.81176870e+03 3.39322177e+03\n",
            " 4.09491506e+03 4.94171336e+03 5.96362332e+03 7.19685673e+03\n",
            " 8.68511374e+03 1.04811313e+04 1.26485522e+04 1.52641797e+04\n",
            " 1.84206997e+04 2.22299648e+04 2.68269580e+04 3.23745754e+04\n",
            " 3.90693994e+04 4.71486636e+04 5.68986603e+04 6.86648845e+04\n",
            " 8.28642773e+04 1.00000000e+05]\n"
          ]
        }
      ]
    },
    {
      "cell_type": "code",
      "source": [
        "#np.eye\n",
        "#Identity matrix with 1 in diagonal and rest 0 are elements \n",
        "import numpy as np\n",
        "\n",
        "\n",
        "identity_3x3 = np.eye(3)\n",
        "print(identity_3x3)\n",
        "\n",
        "\n",
        "identity_3x5 = np.eye(3, 5)\n",
        "print(identity_3x5)\n"
      ],
      "metadata": {
        "colab": {
          "base_uri": "https://localhost:8080/"
        },
        "id": "AzjJu3ltOOLP",
        "outputId": "89eac4d3-1872-452a-d4de-0ef68dd76619"
      },
      "execution_count": 17,
      "outputs": [
        {
          "output_type": "stream",
          "name": "stdout",
          "text": [
            "[[1. 0. 0.]\n",
            " [0. 1. 0.]\n",
            " [0. 0. 1.]]\n",
            "[[1. 0. 0. 0. 0.]\n",
            " [0. 1. 0. 0. 0.]\n",
            " [0. 0. 1. 0. 0.]]\n"
          ]
        }
      ]
    },
    {
      "cell_type": "code",
      "source": [
        "#np.diag\n",
        "#Extract diagonal of array or make diagonal array \n",
        "import numpy as np\n",
        "arr=np.array([[1,2,3],[4,5,6],[7,8,9]])\n",
        "diag=np.diag(arr)\n",
        "\n",
        "print(diag)\n"
      ],
      "metadata": {
        "colab": {
          "base_uri": "https://localhost:8080/"
        },
        "id": "azO0o6UyOgUG",
        "outputId": "fc0f829d-5c35-420d-87a4-0844f7dc4a27"
      },
      "execution_count": 21,
      "outputs": [
        {
          "output_type": "stream",
          "name": "stdout",
          "text": [
            "[1 5 9]\n"
          ]
        }
      ]
    },
    {
      "cell_type": "code",
      "source": [
        "#np.random.rand \n",
        "#Random number of 4corss 3 martrix\n",
        "import numpy as np\n",
        "arr=np.random.rand(3,4)\n",
        "print(arr)\n",
        "\n"
      ],
      "metadata": {
        "colab": {
          "base_uri": "https://localhost:8080/"
        },
        "id": "Dquni5dzPTr2",
        "outputId": "06434244-2dda-421e-e3ec-94f8af3d352f"
      },
      "execution_count": 23,
      "outputs": [
        {
          "output_type": "stream",
          "name": "stdout",
          "text": [
            "[[0.6624418  0.92666864 0.23365639 0.80157788]\n",
            " [0.20766344 0.16182164 0.68419904 0.02588208]\n",
            " [0.59748717 0.99767551 0.88271728 0.13298123]]\n"
          ]
        }
      ]
    },
    {
      "cell_type": "code",
      "source": [
        "#Basic statistics\n",
        "arr= np.array([1,2,3,4,5])\n",
        "print(np.min(arr))\n",
        "print(np.max(arr))\n",
        "print(np.sum(arr))\n",
        "print(np.mean(arr))\n",
        "print(np.std(arr))\n"
      ],
      "metadata": {
        "colab": {
          "base_uri": "https://localhost:8080/"
        },
        "id": "mlpxJCTzQiKZ",
        "outputId": "fe5d9ac0-3267-4bd3-efec-8db02ba01e4a"
      },
      "execution_count": 25,
      "outputs": [
        {
          "output_type": "stream",
          "name": "stdout",
          "text": [
            "1\n",
            "5\n",
            "15\n",
            "3.0\n",
            "1.4142135623730951\n"
          ]
        }
      ]
    },
    {
      "cell_type": "code",
      "source": [
        "#np.arangmin,argmax\n",
        "#indices of an array which gives maximum and minimum values \n",
        "arr=np.array([1,2,3,4,5,6])\n",
        "print(\"np.argmin\" , np.argmin(arr))"
      ],
      "metadata": {
        "colab": {
          "base_uri": "https://localhost:8080/"
        },
        "id": "hwvtqFIkQ7qY",
        "outputId": "741276fc-c748-4fa2-d9ef-a6170c95e4f7"
      },
      "execution_count": 27,
      "outputs": [
        {
          "output_type": "stream",
          "name": "stdout",
          "text": [
            "np.argmin 0\n"
          ]
        }
      ]
    },
    {
      "cell_type": "code",
      "source": [
        "print(\"np.argmax\" , np.argmax(arr))"
      ],
      "metadata": {
        "colab": {
          "base_uri": "https://localhost:8080/"
        },
        "id": "VUPasGnnSS4m",
        "outputId": "c6ede972-fcd5-4c55-eb23-5f08b0b48363"
      },
      "execution_count": 29,
      "outputs": [
        {
          "output_type": "stream",
          "name": "stdout",
          "text": [
            "np.argmax 5\n"
          ]
        }
      ]
    },
    {
      "cell_type": "code",
      "source": [
        "#Concatenate arrays along a specified axis\n",
        "arr1 = np.array([[1, 2, 3], [4, 5, 6]])\n",
        "arr2 = np.array([[7, 8, 9], [10, 11, 12]])\n",
        "arr_concat = np.concatenate((arr1, arr2), axis=0)\n",
        "print(\"np.concatenate along axis 0:\")\n",
        "print(arr_concat)"
      ],
      "metadata": {
        "colab": {
          "base_uri": "https://localhost:8080/"
        },
        "id": "IrQr7SmVSkC3",
        "outputId": "3473b99f-dbd0-4108-abd9-798a331f71f2"
      },
      "execution_count": 32,
      "outputs": [
        {
          "output_type": "stream",
          "name": "stdout",
          "text": [
            "np.concatenate along axis 0:\n",
            "[[ 1  2  3]\n",
            " [ 4  5  6]\n",
            " [ 7  8  9]\n",
            " [10 11 12]]\n"
          ]
        }
      ]
    },
    {
      "cell_type": "code",
      "source": [
        "#Concatenate arrays along a specified axis\n",
        "arr1 = np.array([[1, 2, 3], [4, 5, 6]])\n",
        "arr2 = np.array([[7, 8, 9], [10, 11, 12]])\n",
        "arr_concat = np.concatenate((arr1, arr2), axis=1)\n",
        "print(\"np.concatenate along axis 0:\")\n",
        "print(arr_concat)"
      ],
      "metadata": {
        "colab": {
          "base_uri": "https://localhost:8080/"
        },
        "id": "ni8lOecaS7y9",
        "outputId": "588c4ee6-3533-4a12-dac0-07591136219f"
      },
      "execution_count": 34,
      "outputs": [
        {
          "output_type": "stream",
          "name": "stdout",
          "text": [
            "np.concatenate along axis 0:\n",
            "[[ 1  2  3  7  8  9]\n",
            " [ 4  5  6 10 11 12]]\n"
          ]
        }
      ]
    },
    {
      "cell_type": "code",
      "source": [],
      "metadata": {
        "id": "DTta1RJvTFYo"
      },
      "execution_count": 35,
      "outputs": []
    },
    {
      "cell_type": "code",
      "source": [
        "  "
      ],
      "metadata": {
        "id": "qrxYvNfJT-4G"
      },
      "execution_count": null,
      "outputs": []
    }
  ]
}